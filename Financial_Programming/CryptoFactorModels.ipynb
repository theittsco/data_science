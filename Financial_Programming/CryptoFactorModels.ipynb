{
 "cells": [
  {
   "cell_type": "markdown",
   "id": "0a9c7631",
   "metadata": {},
   "source": [
    "# Crypto Factor Models and the Low Volatility Anomaly\n",
    "\n",
    "### Scott Israel, PY538 Spring 2022"
   ]
  },
  {
   "cell_type": "markdown",
   "id": "a7c3da8e",
   "metadata": {},
   "source": [
    "Can we build a factor model using a portfolio of cryptocurrencies? How does this model compare to factor models against stocks? Is it valid to treat cryptocurrencies as a stock-like financial asset? According to a team at the National Bureau of Economic Research in Cambridge, MA, we can. They developed a 3-factor model composed of a crypto market factor, crypto momentum factor, and crypto size factor. I will try to recreate those factors and analyze their results. Additionally I will test if cryptos exhibit the low volatility anomaly, which would more closely correlate them with traditional stocks (it wouldn't equate them though).\n",
    "\n",
    "My datasets consist of pricing data from yahoo finance and market cap data from coinmarketcap.com. Unfortunately most historical market cap data is locked behind a paywall, so I only used the market cap data from the day I accessed their API, April 8th, 2022. I tried remedying this with a rolling Markowitz optimization year-to-year to try and backfill the market caps based off of the maximum Sharpe ratio but there were convergence issues. Check out cryptoMarkowitz.py for a working optimization using a smaller dataset.\n",
    "\n",
    "I have useful results for the momentum factor and the low volatility anomaly. The crypto size factor was unusable due to the Markowitz divergence, and the crypto market factor was disappointing due to the poor performance. That would also match up well with current trends showing that crypto is on a downward trend as of the first half of 2022. The correlation between BTC and QQQ is dragging the entire crypto market with it. Few investors would win as things are now, unless one managed to short the 'crypto market' years ago. "
   ]
  },
  {
   "cell_type": "code",
   "execution_count": 1,
   "id": "bc6e3809",
   "metadata": {},
   "outputs": [],
   "source": [
    "import numpy as np\n",
    "import matplotlib.pyplot as plt\n",
    "from requests import Request, Session\n",
    "import json\n",
    "import pandas as pd\n",
    "import yfinance as yf\n",
    "from datetime import datetime"
   ]
  },
  {
   "cell_type": "code",
   "execution_count": null,
   "id": "24d39b3c",
   "metadata": {},
   "outputs": [],
   "source": [
    "# Importing market cap data for RIGHT NOW\n",
    "# Get your own API key please\n",
    "\n",
    "url = 'https://pro-api.coinmarketcap.com/v1/cryptocurrency/listings/latest'\n",
    "\n",
    "parameters = {\n",
    "    'start':'1',\n",
    "    'convert':'USD'\n",
    "    }\n",
    "\n",
    "headers = {\n",
    "    'Accepts':'application/json',\n",
    "    'X-CMC_PRO_API_KEY':'<Insert your own API key>'\n",
    "    }\n",
    "\n",
    "session = Session()\n",
    "session.headers.update(headers)\n",
    "\n",
    "response = session.get(url,params=parameters)\n",
    "data = json.loads(response.text)\n",
    "\n",
    "df_coinmarketcap = pd.DataFrame.from_records(data['data'])\n",
    "df_coinmarketcap['Market Cap'] = df_coinmarketcap.quote[0]['USD']['price'] * df_coinmarketcap['circulating_supply']\n",
    "\n",
    "crypto_list = df_coinmarketcap.symbol + '-USD'\n",
    "\n",
    "crypto_weights = df_coinmarketcap['Market Cap']"
   ]
  },
  {
   "cell_type": "code",
   "execution_count": 45,
   "id": "a2d662ff",
   "metadata": {},
   "outputs": [
    {
     "name": "stdout",
     "output_type": "stream",
     "text": [
      "[*********************100%***********************]  1 of 1 completed\n",
      "[*********************100%***********************]  1 of 1 completed\n",
      "[*********************100%***********************]  1 of 1 completed\n",
      "[*********************100%***********************]  1 of 1 completed\n",
      "[*********************100%***********************]  1 of 1 completed\n",
      "[*********************100%***********************]  1 of 1 completed\n",
      "[*********************100%***********************]  1 of 1 completed\n",
      "[*********************100%***********************]  1 of 1 completed\n",
      "[*********************100%***********************]  1 of 1 completed\n",
      "[*********************100%***********************]  1 of 1 completed\n",
      "[*********************100%***********************]  1 of 1 completed\n",
      "[*********************100%***********************]  1 of 1 completed\n",
      "[*********************100%***********************]  1 of 1 completed\n",
      "[*********************100%***********************]  1 of 1 completed\n",
      "[*********************100%***********************]  1 of 1 completed\n",
      "[*********************100%***********************]  1 of 1 completed\n",
      "[*********************100%***********************]  1 of 1 completed\n",
      "[*********************100%***********************]  1 of 1 completed\n",
      "[*********************100%***********************]  1 of 1 completed\n",
      "[*********************100%***********************]  1 of 1 completed\n",
      "[*********************100%***********************]  1 of 1 completed\n",
      "[*********************100%***********************]  1 of 1 completed\n",
      "[*********************100%***********************]  1 of 1 completed\n",
      "[*********************100%***********************]  1 of 1 completed\n",
      "[*********************100%***********************]  1 of 1 completed\n",
      "[*********************100%***********************]  1 of 1 completed\n",
      "[*********************100%***********************]  1 of 1 completed\n",
      "[*********************100%***********************]  1 of 1 completed\n",
      "[*********************100%***********************]  1 of 1 completed\n",
      "[*********************100%***********************]  1 of 1 completed\n",
      "[*********************100%***********************]  1 of 1 completed\n",
      "[*********************100%***********************]  1 of 1 completed\n",
      "[*********************100%***********************]  1 of 1 completed\n",
      "[*********************100%***********************]  1 of 1 completed\n",
      "[*********************100%***********************]  1 of 1 completed\n",
      "[*********************100%***********************]  1 of 1 completed\n",
      "[*********************100%***********************]  1 of 1 completed\n",
      "[*********************100%***********************]  1 of 1 completed\n",
      "[*********************100%***********************]  1 of 1 completed\n",
      "[*********************100%***********************]  1 of 1 completed\n",
      "[*********************100%***********************]  1 of 1 completed\n",
      "[*********************100%***********************]  1 of 1 completed\n",
      "[*********************100%***********************]  1 of 1 completed\n",
      "[*********************100%***********************]  1 of 1 completed\n",
      "[*********************100%***********************]  1 of 1 completed\n",
      "[*********************100%***********************]  1 of 1 completed\n",
      "[*********************100%***********************]  1 of 1 completed\n",
      "[*********************100%***********************]  1 of 1 completed\n",
      "[*********************100%***********************]  1 of 1 completed\n",
      "[*********************100%***********************]  1 of 1 completed\n",
      "[*********************100%***********************]  1 of 1 completed\n",
      "[*********************100%***********************]  1 of 1 completed\n",
      "[*********************100%***********************]  1 of 1 completed\n",
      "[*********************100%***********************]  1 of 1 completed\n",
      "[*********************100%***********************]  1 of 1 completed\n",
      "[*********************100%***********************]  1 of 1 completed\n",
      "[*********************100%***********************]  1 of 1 completed\n",
      "[*********************100%***********************]  1 of 1 completed\n",
      "[*********************100%***********************]  1 of 1 completed\n",
      "[*********************100%***********************]  1 of 1 completed\n",
      "[*********************100%***********************]  1 of 1 completed\n",
      "[*********************100%***********************]  1 of 1 completed\n",
      "[*********************100%***********************]  1 of 1 completed\n",
      "[*********************100%***********************]  1 of 1 completed\n",
      "[*********************100%***********************]  1 of 1 completed\n",
      "[*********************100%***********************]  1 of 1 completed\n",
      "[*********************100%***********************]  1 of 1 completed\n",
      "[*********************100%***********************]  1 of 1 completed\n",
      "[*********************100%***********************]  1 of 1 completed\n",
      "[*********************100%***********************]  1 of 1 completed\n",
      "[*********************100%***********************]  1 of 1 completed\n",
      "[*********************100%***********************]  1 of 1 completed\n",
      "[*********************100%***********************]  1 of 1 completed\n",
      "[*********************100%***********************]  1 of 1 completed\n",
      "[*********************100%***********************]  1 of 1 completed\n",
      "[*********************100%***********************]  1 of 1 completed\n",
      "[*********************100%***********************]  1 of 1 completed\n",
      "[*********************100%***********************]  1 of 1 completed\n",
      "[*********************100%***********************]  1 of 1 completed\n",
      "[*********************100%***********************]  1 of 1 completed\n",
      "[*********************100%***********************]  1 of 1 completed\n",
      "[*********************100%***********************]  1 of 1 completed\n",
      "[*********************100%***********************]  1 of 1 completed\n",
      "[*********************100%***********************]  1 of 1 completed\n",
      "[*********************100%***********************]  1 of 1 completed\n",
      "[*********************100%***********************]  1 of 1 completed\n",
      "[*********************100%***********************]  1 of 1 completed\n",
      "[*********************100%***********************]  1 of 1 completed\n",
      "[*********************100%***********************]  1 of 1 completed\n",
      "[*********************100%***********************]  1 of 1 completed\n",
      "[*********************100%***********************]  1 of 1 completed\n",
      "[*********************100%***********************]  1 of 1 completed\n",
      "[*********************100%***********************]  1 of 1 completed\n",
      "[*********************100%***********************]  1 of 1 completed\n",
      "[*********************100%***********************]  1 of 1 completed\n",
      "[*********************100%***********************]  1 of 1 completed\n",
      "[*********************100%***********************]  1 of 1 completed\n",
      "[*********************100%***********************]  1 of 1 completed\n",
      "[*********************100%***********************]  1 of 1 completed\n",
      "[*********************100%***********************]  1 of 1 completed\n"
     ]
    },
    {
     "data": {
      "text/html": [
       "<div>\n",
       "<style scoped>\n",
       "    .dataframe tbody tr th:only-of-type {\n",
       "        vertical-align: middle;\n",
       "    }\n",
       "\n",
       "    .dataframe tbody tr th {\n",
       "        vertical-align: top;\n",
       "    }\n",
       "\n",
       "    .dataframe thead th {\n",
       "        text-align: right;\n",
       "    }\n",
       "</style>\n",
       "<table border=\"1\" class=\"dataframe\">\n",
       "  <thead>\n",
       "    <tr style=\"text-align: right;\">\n",
       "      <th></th>\n",
       "      <th>(BTC-USD,)</th>\n",
       "      <th>(ETH-USD,)</th>\n",
       "      <th>(USDT-USD,)</th>\n",
       "      <th>(BNB-USD,)</th>\n",
       "      <th>(USDC-USD,)</th>\n",
       "      <th>(XRP-USD,)</th>\n",
       "      <th>(SOL-USD,)</th>\n",
       "      <th>(ADA-USD,)</th>\n",
       "      <th>(LUNA-USD,)</th>\n",
       "      <th>(AVAX-USD,)</th>\n",
       "      <th>...</th>\n",
       "      <th>(HOT-USD,)</th>\n",
       "      <th>(ROSE-USD,)</th>\n",
       "      <th>(DCR-USD,)</th>\n",
       "      <th>(SCRT-USD,)</th>\n",
       "      <th>(AUDIO-USD,)</th>\n",
       "      <th>(KAVA-USD,)</th>\n",
       "      <th>(KNC-USD,)</th>\n",
       "      <th>(ANC-USD,)</th>\n",
       "      <th>(QTUM-USD,)</th>\n",
       "      <th>(BORA-USD,)</th>\n",
       "    </tr>\n",
       "    <tr>\n",
       "      <th>Date</th>\n",
       "      <th></th>\n",
       "      <th></th>\n",
       "      <th></th>\n",
       "      <th></th>\n",
       "      <th></th>\n",
       "      <th></th>\n",
       "      <th></th>\n",
       "      <th></th>\n",
       "      <th></th>\n",
       "      <th></th>\n",
       "      <th></th>\n",
       "      <th></th>\n",
       "      <th></th>\n",
       "      <th></th>\n",
       "      <th></th>\n",
       "      <th></th>\n",
       "      <th></th>\n",
       "      <th></th>\n",
       "      <th></th>\n",
       "      <th></th>\n",
       "      <th></th>\n",
       "    </tr>\n",
       "  </thead>\n",
       "  <tbody>\n",
       "    <tr>\n",
       "      <th>2017-01-01</th>\n",
       "      <td>0.000000</td>\n",
       "      <td>0.0</td>\n",
       "      <td>0.0</td>\n",
       "      <td>0.0</td>\n",
       "      <td>0.0</td>\n",
       "      <td>0.0</td>\n",
       "      <td>0.0</td>\n",
       "      <td>0.0</td>\n",
       "      <td>0.0</td>\n",
       "      <td>0.0</td>\n",
       "      <td>...</td>\n",
       "      <td>0.0</td>\n",
       "      <td>0.0</td>\n",
       "      <td>0.0</td>\n",
       "      <td>0.0</td>\n",
       "      <td>0.0</td>\n",
       "      <td>0.0</td>\n",
       "      <td>0.0</td>\n",
       "      <td>0.0</td>\n",
       "      <td>0.0</td>\n",
       "      <td>0.0</td>\n",
       "    </tr>\n",
       "    <tr>\n",
       "      <th>2017-01-02</th>\n",
       "      <td>0.023464</td>\n",
       "      <td>0.0</td>\n",
       "      <td>0.0</td>\n",
       "      <td>0.0</td>\n",
       "      <td>0.0</td>\n",
       "      <td>0.0</td>\n",
       "      <td>0.0</td>\n",
       "      <td>0.0</td>\n",
       "      <td>0.0</td>\n",
       "      <td>0.0</td>\n",
       "      <td>...</td>\n",
       "      <td>0.0</td>\n",
       "      <td>0.0</td>\n",
       "      <td>0.0</td>\n",
       "      <td>0.0</td>\n",
       "      <td>0.0</td>\n",
       "      <td>0.0</td>\n",
       "      <td>0.0</td>\n",
       "      <td>0.0</td>\n",
       "      <td>0.0</td>\n",
       "      <td>0.0</td>\n",
       "    </tr>\n",
       "    <tr>\n",
       "      <th>2017-01-03</th>\n",
       "      <td>0.021620</td>\n",
       "      <td>0.0</td>\n",
       "      <td>0.0</td>\n",
       "      <td>0.0</td>\n",
       "      <td>0.0</td>\n",
       "      <td>0.0</td>\n",
       "      <td>0.0</td>\n",
       "      <td>0.0</td>\n",
       "      <td>0.0</td>\n",
       "      <td>0.0</td>\n",
       "      <td>...</td>\n",
       "      <td>0.0</td>\n",
       "      <td>0.0</td>\n",
       "      <td>0.0</td>\n",
       "      <td>0.0</td>\n",
       "      <td>0.0</td>\n",
       "      <td>0.0</td>\n",
       "      <td>0.0</td>\n",
       "      <td>0.0</td>\n",
       "      <td>0.0</td>\n",
       "      <td>0.0</td>\n",
       "    </tr>\n",
       "    <tr>\n",
       "      <th>2017-01-04</th>\n",
       "      <td>0.106233</td>\n",
       "      <td>0.0</td>\n",
       "      <td>0.0</td>\n",
       "      <td>0.0</td>\n",
       "      <td>0.0</td>\n",
       "      <td>0.0</td>\n",
       "      <td>0.0</td>\n",
       "      <td>0.0</td>\n",
       "      <td>0.0</td>\n",
       "      <td>0.0</td>\n",
       "      <td>...</td>\n",
       "      <td>0.0</td>\n",
       "      <td>0.0</td>\n",
       "      <td>0.0</td>\n",
       "      <td>0.0</td>\n",
       "      <td>0.0</td>\n",
       "      <td>0.0</td>\n",
       "      <td>0.0</td>\n",
       "      <td>0.0</td>\n",
       "      <td>0.0</td>\n",
       "      <td>0.0</td>\n",
       "    </tr>\n",
       "    <tr>\n",
       "      <th>2017-01-05</th>\n",
       "      <td>-0.122410</td>\n",
       "      <td>0.0</td>\n",
       "      <td>0.0</td>\n",
       "      <td>0.0</td>\n",
       "      <td>0.0</td>\n",
       "      <td>0.0</td>\n",
       "      <td>0.0</td>\n",
       "      <td>0.0</td>\n",
       "      <td>0.0</td>\n",
       "      <td>0.0</td>\n",
       "      <td>...</td>\n",
       "      <td>0.0</td>\n",
       "      <td>0.0</td>\n",
       "      <td>0.0</td>\n",
       "      <td>0.0</td>\n",
       "      <td>0.0</td>\n",
       "      <td>0.0</td>\n",
       "      <td>0.0</td>\n",
       "      <td>0.0</td>\n",
       "      <td>0.0</td>\n",
       "      <td>0.0</td>\n",
       "    </tr>\n",
       "  </tbody>\n",
       "</table>\n",
       "<p>5 rows × 100 columns</p>\n",
       "</div>"
      ],
      "text/plain": [
       "            (BTC-USD,)  (ETH-USD,)  (USDT-USD,)  (BNB-USD,)  (USDC-USD,)  \\\n",
       "Date                                                                       \n",
       "2017-01-01    0.000000         0.0          0.0         0.0          0.0   \n",
       "2017-01-02    0.023464         0.0          0.0         0.0          0.0   \n",
       "2017-01-03    0.021620         0.0          0.0         0.0          0.0   \n",
       "2017-01-04    0.106233         0.0          0.0         0.0          0.0   \n",
       "2017-01-05   -0.122410         0.0          0.0         0.0          0.0   \n",
       "\n",
       "            (XRP-USD,)  (SOL-USD,)  (ADA-USD,)  (LUNA-USD,)  (AVAX-USD,)  ...  \\\n",
       "Date                                                                      ...   \n",
       "2017-01-01         0.0         0.0         0.0          0.0          0.0  ...   \n",
       "2017-01-02         0.0         0.0         0.0          0.0          0.0  ...   \n",
       "2017-01-03         0.0         0.0         0.0          0.0          0.0  ...   \n",
       "2017-01-04         0.0         0.0         0.0          0.0          0.0  ...   \n",
       "2017-01-05         0.0         0.0         0.0          0.0          0.0  ...   \n",
       "\n",
       "            (HOT-USD,)  (ROSE-USD,)  (DCR-USD,)  (SCRT-USD,)  (AUDIO-USD,)  \\\n",
       "Date                                                                         \n",
       "2017-01-01         0.0          0.0         0.0          0.0           0.0   \n",
       "2017-01-02         0.0          0.0         0.0          0.0           0.0   \n",
       "2017-01-03         0.0          0.0         0.0          0.0           0.0   \n",
       "2017-01-04         0.0          0.0         0.0          0.0           0.0   \n",
       "2017-01-05         0.0          0.0         0.0          0.0           0.0   \n",
       "\n",
       "            (KAVA-USD,)  (KNC-USD,)  (ANC-USD,)  (QTUM-USD,)  (BORA-USD,)  \n",
       "Date                                                                       \n",
       "2017-01-01          0.0         0.0         0.0          0.0          0.0  \n",
       "2017-01-02          0.0         0.0         0.0          0.0          0.0  \n",
       "2017-01-03          0.0         0.0         0.0          0.0          0.0  \n",
       "2017-01-04          0.0         0.0         0.0          0.0          0.0  \n",
       "2017-01-05          0.0         0.0         0.0          0.0          0.0  \n",
       "\n",
       "[5 rows x 100 columns]"
      ]
     },
     "execution_count": 45,
     "metadata": {},
     "output_type": "execute_result"
    }
   ],
   "source": [
    "# Getting pricing data\n",
    "\n",
    "start = datetime(2017, 1, 1)\n",
    "end = datetime(2022, 4, 8)\n",
    "#end = datetime.now().date().isoformat()\n",
    "\n",
    "symbols = pd.read_csv('crypto_list.csv') # I saved these on April 8th, see the API cell for current data\n",
    "weights = pd.read_csv('crypto_weights.csv')\n",
    "\n",
    "total_mkt = weights.sum()\n",
    "\n",
    "# Creating the dataframe from pricing data\n",
    "df = pd.concat([yf.download(crypto[0], start=start, end=end) for crypto in symbols.values], axis=1)\n",
    "\n",
    "dataframes = pd.DataFrame()\n",
    "\n",
    "for i in range(4, df.shape[1], 6):\n",
    "     dataframes[i] = df.iloc[:,i].pct_change()\n",
    "    \n",
    "dataframes.columns = symbols\n",
    "dataframes.fillna(0, inplace=True)\n",
    "dataframes.head()\n"
   ]
  },
  {
   "cell_type": "markdown",
   "id": "64c8f94c",
   "metadata": {},
   "source": [
    "We can see that many of cryptocurrencies did not have a return in 2017, with non-zero data later in the time range. The following applies market caps weights only on April 8th, in case there are any issues with the Markowitz optimization."
   ]
  },
  {
   "cell_type": "code",
   "execution_count": 48,
   "id": "e1f6b1d5",
   "metadata": {},
   "outputs": [],
   "source": [
    "# To get a total return for the top 100 coins, I use the following code:\n",
    "# Apply weights to crypto data\n",
    "\n",
    "dataframes['Total'] = [(np.dot(weights.values.flatten(),dataframes.iloc[i,:].values) / total_mkt.values)[0] for i in range(dataframes.shape[0])] \n",
    "\n",
    "m = dataframes.loc[dataframes['Total'] != np.inf, 'Total'].max()\n",
    "dataframes['Total'].replace(np.inf,dataframes.Total.median(),inplace=True)"
   ]
  },
  {
   "cell_type": "markdown",
   "id": "b2e411cb",
   "metadata": {},
   "source": [
    "## Markowitz Portfolio Optimization\n",
    "\n",
    "To get the weights, we use a Markowitz optimization. Otherwise we'd use the market cap data to weight each crypto. Unfortunately market cap data is locked behind a paywall, as all good things are. The following function finds the minimum voltatility weights for a specified rate of return. \n",
    "\n"
   ]
  },
  {
   "cell_type": "code",
   "execution_count": 32,
   "id": "544da80f",
   "metadata": {},
   "outputs": [],
   "source": [
    "from scipy.optimize import minimize\n",
    "\n",
    "# Function to find the minimum variance given a desired return.\n",
    "def min_variance(mu, cov, desired_ret):\n",
    "\n",
    "    # Compute the variance\n",
    "    def variance(weights):\n",
    "        return np.dot(weights, np.dot(cov, weights))\n",
    "\n",
    "    # Check that the weights sum up to 1\n",
    "    def check_sum(weights):\n",
    "        return np.sum(weights) - 1\n",
    "\n",
    "    # Check that the return of the portfolio is the desired return.\n",
    "    def check_return(weights):\n",
    "        return desired_ret - np.dot(mu.T,weights)\n",
    "\n",
    "    # Write down the constraints as equality constraints.\n",
    "    cons = ({\"type\": \"eq\", \"fun\": check_sum},\n",
    "            {\"type\": \"eq\", \"fun\": check_return})\n",
    "\n",
    "    # We are guessing a purposely wrong initial guess.\n",
    "    init_guess = [-10 for _ in range(len(mu))]\n",
    "\n",
    "    # Run the minimiziation\n",
    "    results = minimize(variance, x0=init_guess, constraints=cons, tol=1e-4)\n",
    "\n",
    "    w = results.x\n",
    "\n",
    "    # Assert that the optimization converged. Otherwise, throw an error.\n",
    "    assert results.success, \"Optimization did not converge for : \" + \\\n",
    "        str(desired_ret)\n",
    "\n",
    "    # Return the desired return and variance of the appropriate portfolio.\n",
    "    return [desired_ret, variance(w), w]"
   ]
  },
  {
   "cell_type": "markdown",
   "id": "65b26994",
   "metadata": {},
   "source": [
    "The following cell sets a random weight for each of the 100 cryptos for each day. I used the Dirichlet distribution because with the parameters I chose the weights for each day sum to 1, as they should."
   ]
  },
  {
   "cell_type": "code",
   "execution_count": 28,
   "id": "a015b90b",
   "metadata": {},
   "outputs": [],
   "source": [
    "dummy = np.ones((dataframes.shape[0],100))\n",
    "rw_df = pd.DataFrame(data=dummy, columns=symbols)\n",
    "\n",
    "for i in range(0,100):\n",
    "    for j in range(dataframes.shape[0]):\n",
    "        if (dataframes.iloc[j,i] != 0.0):\n",
    "            new_weights = np.random.dirichlet(np.ones(len(symbols)), size=1)\n",
    "            rw_df.iloc[j,i] = new_weights[0,i]\n",
    "        else: \n",
    "            rw_df.iloc[j,i] = 0.0\n"
   ]
  },
  {
   "cell_type": "code",
   "execution_count": 22,
   "id": "3483f930",
   "metadata": {},
   "outputs": [
    {
     "data": {
      "text/html": [
       "<div>\n",
       "<style scoped>\n",
       "    .dataframe tbody tr th:only-of-type {\n",
       "        vertical-align: middle;\n",
       "    }\n",
       "\n",
       "    .dataframe tbody tr th {\n",
       "        vertical-align: top;\n",
       "    }\n",
       "\n",
       "    .dataframe thead th {\n",
       "        text-align: right;\n",
       "    }\n",
       "</style>\n",
       "<table border=\"1\" class=\"dataframe\">\n",
       "  <thead>\n",
       "    <tr style=\"text-align: right;\">\n",
       "      <th></th>\n",
       "      <th>(BTC-USD,)</th>\n",
       "      <th>(ETH-USD,)</th>\n",
       "      <th>(USDT-USD,)</th>\n",
       "      <th>(BNB-USD,)</th>\n",
       "      <th>(USDC-USD,)</th>\n",
       "      <th>(XRP-USD,)</th>\n",
       "      <th>(SOL-USD,)</th>\n",
       "      <th>(ADA-USD,)</th>\n",
       "      <th>(LUNA-USD,)</th>\n",
       "      <th>(AVAX-USD,)</th>\n",
       "      <th>...</th>\n",
       "      <th>(HOT-USD,)</th>\n",
       "      <th>(ROSE-USD,)</th>\n",
       "      <th>(DCR-USD,)</th>\n",
       "      <th>(SCRT-USD,)</th>\n",
       "      <th>(AUDIO-USD,)</th>\n",
       "      <th>(KAVA-USD,)</th>\n",
       "      <th>(KNC-USD,)</th>\n",
       "      <th>(ANC-USD,)</th>\n",
       "      <th>(QTUM-USD,)</th>\n",
       "      <th>(BORA-USD,)</th>\n",
       "    </tr>\n",
       "  </thead>\n",
       "  <tbody>\n",
       "    <tr>\n",
       "      <th>2044</th>\n",
       "      <td>0.001274</td>\n",
       "      <td>0.003342</td>\n",
       "      <td>0.005285</td>\n",
       "      <td>0.003882</td>\n",
       "      <td>0.009169</td>\n",
       "      <td>0.003952</td>\n",
       "      <td>0.003004</td>\n",
       "      <td>0.008041</td>\n",
       "      <td>0.0</td>\n",
       "      <td>0.046620</td>\n",
       "      <td>...</td>\n",
       "      <td>0.006645</td>\n",
       "      <td>0.016560</td>\n",
       "      <td>0.000849</td>\n",
       "      <td>0.006368</td>\n",
       "      <td>0.014686</td>\n",
       "      <td>0.008285</td>\n",
       "      <td>0.025619</td>\n",
       "      <td>0.005777</td>\n",
       "      <td>0.012625</td>\n",
       "      <td>0.002827</td>\n",
       "    </tr>\n",
       "    <tr>\n",
       "      <th>2045</th>\n",
       "      <td>0.001926</td>\n",
       "      <td>0.002888</td>\n",
       "      <td>0.006410</td>\n",
       "      <td>0.009747</td>\n",
       "      <td>0.013849</td>\n",
       "      <td>0.004325</td>\n",
       "      <td>0.011640</td>\n",
       "      <td>0.003229</td>\n",
       "      <td>0.0</td>\n",
       "      <td>0.001274</td>\n",
       "      <td>...</td>\n",
       "      <td>0.004670</td>\n",
       "      <td>0.005485</td>\n",
       "      <td>0.017729</td>\n",
       "      <td>0.016897</td>\n",
       "      <td>0.009638</td>\n",
       "      <td>0.001454</td>\n",
       "      <td>0.024506</td>\n",
       "      <td>0.012881</td>\n",
       "      <td>0.002594</td>\n",
       "      <td>0.002875</td>\n",
       "    </tr>\n",
       "    <tr>\n",
       "      <th>2046</th>\n",
       "      <td>0.015009</td>\n",
       "      <td>0.007602</td>\n",
       "      <td>0.003712</td>\n",
       "      <td>0.011971</td>\n",
       "      <td>0.014870</td>\n",
       "      <td>0.012267</td>\n",
       "      <td>0.082367</td>\n",
       "      <td>0.002903</td>\n",
       "      <td>0.0</td>\n",
       "      <td>0.011792</td>\n",
       "      <td>...</td>\n",
       "      <td>0.000186</td>\n",
       "      <td>0.016190</td>\n",
       "      <td>0.019028</td>\n",
       "      <td>0.003322</td>\n",
       "      <td>0.004227</td>\n",
       "      <td>0.008348</td>\n",
       "      <td>0.000063</td>\n",
       "      <td>0.019529</td>\n",
       "      <td>0.000944</td>\n",
       "      <td>0.007134</td>\n",
       "    </tr>\n",
       "    <tr>\n",
       "      <th>2047</th>\n",
       "      <td>0.044697</td>\n",
       "      <td>0.004760</td>\n",
       "      <td>0.011173</td>\n",
       "      <td>0.006867</td>\n",
       "      <td>0.025641</td>\n",
       "      <td>0.004471</td>\n",
       "      <td>0.003991</td>\n",
       "      <td>0.017915</td>\n",
       "      <td>0.0</td>\n",
       "      <td>0.014526</td>\n",
       "      <td>...</td>\n",
       "      <td>0.001635</td>\n",
       "      <td>0.004679</td>\n",
       "      <td>0.000116</td>\n",
       "      <td>0.001804</td>\n",
       "      <td>0.002972</td>\n",
       "      <td>0.000834</td>\n",
       "      <td>0.006154</td>\n",
       "      <td>0.000514</td>\n",
       "      <td>0.006799</td>\n",
       "      <td>0.002234</td>\n",
       "    </tr>\n",
       "    <tr>\n",
       "      <th>2048</th>\n",
       "      <td>0.003343</td>\n",
       "      <td>0.019498</td>\n",
       "      <td>0.004558</td>\n",
       "      <td>0.000093</td>\n",
       "      <td>0.028443</td>\n",
       "      <td>0.004830</td>\n",
       "      <td>0.063261</td>\n",
       "      <td>0.002706</td>\n",
       "      <td>0.0</td>\n",
       "      <td>0.015698</td>\n",
       "      <td>...</td>\n",
       "      <td>0.000882</td>\n",
       "      <td>0.007002</td>\n",
       "      <td>0.006561</td>\n",
       "      <td>0.004636</td>\n",
       "      <td>0.007106</td>\n",
       "      <td>0.005665</td>\n",
       "      <td>0.002882</td>\n",
       "      <td>0.024369</td>\n",
       "      <td>0.017980</td>\n",
       "      <td>0.007123</td>\n",
       "    </tr>\n",
       "  </tbody>\n",
       "</table>\n",
       "<p>5 rows × 100 columns</p>\n",
       "</div>"
      ],
      "text/plain": [
       "      (BTC-USD,)  (ETH-USD,)  (USDT-USD,)  (BNB-USD,)  (USDC-USD,)  \\\n",
       "2044    0.001274    0.003342     0.005285    0.003882     0.009169   \n",
       "2045    0.001926    0.002888     0.006410    0.009747     0.013849   \n",
       "2046    0.015009    0.007602     0.003712    0.011971     0.014870   \n",
       "2047    0.044697    0.004760     0.011173    0.006867     0.025641   \n",
       "2048    0.003343    0.019498     0.004558    0.000093     0.028443   \n",
       "\n",
       "      (XRP-USD,)  (SOL-USD,)  (ADA-USD,)  (LUNA-USD,)  (AVAX-USD,)  ...  \\\n",
       "2044    0.003952    0.003004    0.008041          0.0     0.046620  ...   \n",
       "2045    0.004325    0.011640    0.003229          0.0     0.001274  ...   \n",
       "2046    0.012267    0.082367    0.002903          0.0     0.011792  ...   \n",
       "2047    0.004471    0.003991    0.017915          0.0     0.014526  ...   \n",
       "2048    0.004830    0.063261    0.002706          0.0     0.015698  ...   \n",
       "\n",
       "      (HOT-USD,)  (ROSE-USD,)  (DCR-USD,)  (SCRT-USD,)  (AUDIO-USD,)  \\\n",
       "2044    0.006645     0.016560    0.000849     0.006368      0.014686   \n",
       "2045    0.004670     0.005485    0.017729     0.016897      0.009638   \n",
       "2046    0.000186     0.016190    0.019028     0.003322      0.004227   \n",
       "2047    0.001635     0.004679    0.000116     0.001804      0.002972   \n",
       "2048    0.000882     0.007002    0.006561     0.004636      0.007106   \n",
       "\n",
       "      (KAVA-USD,)  (KNC-USD,)  (ANC-USD,)  (QTUM-USD,)  (BORA-USD,)  \n",
       "2044     0.008285    0.025619    0.005777     0.012625     0.002827  \n",
       "2045     0.001454    0.024506    0.012881     0.002594     0.002875  \n",
       "2046     0.008348    0.000063    0.019529     0.000944     0.007134  \n",
       "2047     0.000834    0.006154    0.000514     0.006799     0.002234  \n",
       "2048     0.005665    0.002882    0.024369     0.017980     0.007123  \n",
       "\n",
       "[5 rows x 100 columns]"
      ]
     },
     "execution_count": 22,
     "metadata": {},
     "output_type": "execute_result"
    }
   ],
   "source": [
    "rw_df.tail()"
   ]
  },
  {
   "cell_type": "code",
   "execution_count": 34,
   "id": "68f1e784",
   "metadata": {},
   "outputs": [
    {
     "name": "stderr",
     "output_type": "stream",
     "text": [
      "C:\\Users\\Scott\\anaconda3\\lib\\site-packages\\numpy\\lib\\function_base.py:2487: RuntimeWarning: invalid value encountered in subtract\n",
      "  X -= avg[:, None]\n"
     ]
    },
    {
     "name": "stdout",
     "output_type": "stream",
     "text": [
      "[[ 1.71063566e-03  1.35412058e-03  3.97075412e-06 ...  1.69619476e-03\n",
      "   1.53989710e-03  7.06501360e-04]\n",
      " [ 1.35412058e-03  2.23061205e-03 -1.77861689e-06 ...  2.42348069e-03\n",
      "   2.15369559e-03  1.01498518e-03]\n",
      " [ 3.97075412e-06 -1.77861689e-06  1.84574238e-05 ...  2.52517093e-05\n",
      "  -5.80723332e-06 -7.33632326e-06]\n",
      " ...\n",
      " [ 1.69619476e-03  2.42348069e-03  2.52517093e-05 ...  6.65561371e-02\n",
      "   2.37552417e-03  9.75552791e-04]\n",
      " [ 1.53989710e-03  2.15369559e-03 -5.80723332e-06 ...  2.37552417e-03\n",
      "   4.52064158e-03  1.33044014e-03]\n",
      " [ 7.06501360e-04  1.01498518e-03 -7.33632326e-06 ...  9.75552791e-04\n",
      "   1.33044014e-03  1.36878719e-02]]\n",
      "[ 2.42206742e-03  2.00098550e-03  5.39021567e-06  4.05537313e-03\n",
      "  4.08601721e-06  2.10181446e-03  3.23135289e-03  3.52018403e-03\n",
      "  1.45629104e-01  1.97582223e-03  5.11958064e-03  1.46167829e-03\n",
      "  2.84098974e-06 -2.81917665e-04  1.45629104e-01  1.47114410e-03\n",
      "  1.89947961e-03  4.87109346e-03  2.56321343e-03  1.78652309e-05\n",
      "  3.08039512e-03  1.86059706e-03  4.03301504e-03  1.87983775e-02\n",
      "  1.11199848e-03  2.06598185e-03  4.01625264e-03  1.07844646e-03\n",
      "  2.29385106e-03  2.26824509e-03  3.33200019e-04  1.47347802e-03\n",
      "  3.92512982e-03 -1.24845248e-03  5.21176804e-03  2.01091726e-03\n",
      "  1.46526097e-03  1.51939742e-03  5.49946707e-02  3.06658246e-03\n",
      "  3.42062996e-03  4.32723840e-03  3.91550942e-03  2.20540650e-03\n",
      "  1.60689326e-03  4.84689054e-03  1.94222277e-03  5.09809259e-02\n",
      "  2.93041071e-03  2.00916066e-03  2.24259178e-03  3.47026393e-04\n",
      "  1.02477633e-03  1.69025836e-03  2.43236361e-03  2.05034083e-03\n",
      "  9.40862382e-04  1.85480239e-02  1.97495672e-03  3.47417002e-03\n",
      "  1.23937508e-03  1.21080673e-03  1.21524334e-03  1.92723133e-03\n",
      "  3.29622864e-03  4.73390865e-04  1.69921892e-03  1.73773385e-03\n",
      "  5.15084052e-03  2.99354170e-03  5.50933021e-03  1.77886712e-03\n",
      "  3.65961775e-06  2.43045189e-03  4.70306730e-03  2.29730826e-03\n",
      "  3.42751342e-03  7.27660765e-04  2.42015874e-03  4.82398354e-07\n",
      "  6.28182772e-04  3.15271340e-03  1.45629104e-01  4.02491733e-05\n",
      "  8.63026034e-04  2.70749495e-03  7.24727904e-06 -9.37051101e-04\n",
      "  1.41645721e-03  2.68880241e-03  1.75756745e-03  1.53447320e-03\n",
      "  1.64468631e-03  1.50103007e-03  1.85676318e-03  1.71464277e-03\n",
      "  5.09991848e-04  2.45139773e-02  1.67739483e-03  4.39274881e-03]\n"
     ]
    }
   ],
   "source": [
    "# Average drift term\n",
    "mu_df = dataframes.mean()\n",
    "max_value = np.nanmax(mu_df[mu_df != np.inf])\n",
    "mu_df.replace([np.inf, -np.inf], max_value, inplace=True)\n",
    "mu = mu_df.values\n",
    "\n",
    "# Covariance\n",
    "cov_df = dataframes.cov()\n",
    "max_value = np.nanmax(cov_df[cov_df != np.inf])\n",
    "cov_df.replace([np.inf, -np.inf], max_value, inplace=True)\n",
    "cov = cov_df.values\n",
    "\n",
    "# Compute the expected return of the portfolio for each random set.\n",
    "random_portfolio_df = rw_df.dot(mu).to_frame(\"R_P\")\n",
    "# Compute the variance of the portfolio for each random set.\n",
    "random_portfolio_df[\"Var\"] = np.sum(rw_df.dot(cov.dot(rw_df.T) ), axis=1)\n",
    "random_portfolio_df[\"SD\"] = np.sqrt(random_portfolio_df['Var'])\n",
    "\n",
    "print(cov)\n",
    "print(mu)"
   ]
  },
  {
   "cell_type": "markdown",
   "id": "c6044468",
   "metadata": {},
   "source": [
    "# Factor Models\n",
    "\n",
    "$$\n",
    "R_i - R_f = \\alpha^i + \\beta^i_{CMKT}CMKT + \\beta^i_{CSMB}CSMB + \\beta^i_{CMOM}CMOM\n",
    "$$\n",
    "\n",
    "## Crypto Market Factor CMKT\n",
    "\n",
    "According to Liu et al., we can measure the crypto market return, our CMKT factor, as the difference between the total crypto currency returns and the one month US treasury bill rate. We can observe this below, plotted between 2017 and April 2022."
   ]
  },
  {
   "cell_type": "code",
   "execution_count": 49,
   "id": "2cc55770",
   "metadata": {},
   "outputs": [],
   "source": [
    "#One month treasury bill rate\n",
    "risk_free = pd.read_csv('USTreasury1Mon.csv', index_col=0, parse_dates=True)"
   ]
  },
  {
   "cell_type": "code",
   "execution_count": 42,
   "id": "b0fdae0f",
   "metadata": {},
   "outputs": [
    {
     "ename": "AssertionError",
     "evalue": "Optimization did not converge for : 0.0004931506849315068",
     "output_type": "error",
     "traceback": [
      "\u001b[1;31m---------------------------------------------------------------------------\u001b[0m",
      "\u001b[1;31mAssertionError\u001b[0m                            Traceback (most recent call last)",
      "\u001b[1;32m~\\AppData\\Local\\Temp/ipykernel_25792/2851577574.py\u001b[0m in \u001b[0;36m<module>\u001b[1;34m\u001b[0m\n\u001b[1;32m----> 1\u001b[1;33m \u001b[0mtest\u001b[0m \u001b[1;33m=\u001b[0m \u001b[0mmin_variance\u001b[0m\u001b[1;33m(\u001b[0m\u001b[0mmu\u001b[0m\u001b[1;33m,\u001b[0m\u001b[0mcov\u001b[0m\u001b[1;33m,\u001b[0m\u001b[0mdesired_rets\u001b[0m\u001b[1;33m[\u001b[0m\u001b[1;33m-\u001b[0m\u001b[1;36m1\u001b[0m\u001b[1;33m]\u001b[0m\u001b[1;33m)\u001b[0m\u001b[1;33m\u001b[0m\u001b[1;33m\u001b[0m\u001b[0m\n\u001b[0m",
      "\u001b[1;32m~\\AppData\\Local\\Temp/ipykernel_25792/235464694.py\u001b[0m in \u001b[0;36mmin_variance\u001b[1;34m(mu, cov, desired_ret)\u001b[0m\n\u001b[0;32m     30\u001b[0m \u001b[1;33m\u001b[0m\u001b[0m\n\u001b[0;32m     31\u001b[0m     \u001b[1;31m# Assert that the optimization converged. Otherwise, throw an error.\u001b[0m\u001b[1;33m\u001b[0m\u001b[1;33m\u001b[0m\u001b[0m\n\u001b[1;32m---> 32\u001b[1;33m     \u001b[1;32massert\u001b[0m \u001b[0mresults\u001b[0m\u001b[1;33m.\u001b[0m\u001b[0msuccess\u001b[0m\u001b[1;33m,\u001b[0m \u001b[1;34m\"Optimization did not converge for : \"\u001b[0m \u001b[1;33m+\u001b[0m\u001b[0;31m \u001b[0m\u001b[0;31m\\\u001b[0m\u001b[1;33m\u001b[0m\u001b[1;33m\u001b[0m\u001b[0m\n\u001b[0m\u001b[0;32m     33\u001b[0m         \u001b[0mstr\u001b[0m\u001b[1;33m(\u001b[0m\u001b[0mdesired_ret\u001b[0m\u001b[1;33m)\u001b[0m\u001b[1;33m\u001b[0m\u001b[1;33m\u001b[0m\u001b[0m\n\u001b[0;32m     34\u001b[0m \u001b[1;33m\u001b[0m\u001b[0m\n",
      "\u001b[1;31mAssertionError\u001b[0m: Optimization did not converge for : 0.0004931506849315068"
     ]
    }
   ],
   "source": [
    "test = min_variance(mu,cov,desired_rets[-1])"
   ]
  },
  {
   "cell_type": "markdown",
   "id": "1404e824",
   "metadata": {},
   "source": [
    "The following cell calculates the maximum Sharpe ratio to find the optimum set of portfolio weights for the dataset. "
   ]
  },
  {
   "cell_type": "code",
   "execution_count": 63,
   "id": "aa276871",
   "metadata": {
    "scrolled": true
   },
   "outputs": [
    {
     "data": {
      "text/plain": [
       "'\\ndesired_rets = np.linspace(0.01/365, 0.18/365, 171)\\n\\nfrontier = [min_variance(mu, cov, desired_ret)\\n            for desired_ret in desired_rets]\\n\\nfrontier_df = pd.DataFrame(data=frontier, columns=[\"ER\", \"Var\", \"Weights\"])\\n\\nfrontier_df[\\'SD\\'] = np.sqrt(frontier_df.Var)\\n\\nfrontier_df[\\'SR\\'] = (frontier_df.ER - risk_free[\\' Close\\'].pct_change()) / frontier_df.SD\\n\\nmax_sharpe = frontier_df.loc[frontier_df[\"SR\"] == np.max(frontier_df[\"SR\"])]\\n'"
      ]
     },
     "execution_count": 63,
     "metadata": {},
     "output_type": "execute_result"
    }
   ],
   "source": [
    "'''\n",
    "desired_rets = np.linspace(0.01/365, 0.18/365, 171)\n",
    "\n",
    "frontier = [min_variance(mu, cov, desired_ret)\n",
    "            for desired_ret in desired_rets]\n",
    "\n",
    "frontier_df = pd.DataFrame(data=frontier, columns=[\"ER\", \"Var\", \"Weights\"])\n",
    "\n",
    "frontier_df['SD'] = np.sqrt(frontier_df.Var)\n",
    "\n",
    "frontier_df['SR'] = (frontier_df.ER - risk_free[' Close'].pct_change()) / frontier_df.SD\n",
    "\n",
    "max_sharpe = frontier_df.loc[frontier_df[\"SR\"] == np.max(frontier_df[\"SR\"])]\n",
    "'''"
   ]
  },
  {
   "cell_type": "code",
   "execution_count": 31,
   "id": "f78c3ff1",
   "metadata": {},
   "outputs": [
    {
     "name": "stdout",
     "output_type": "stream",
     "text": [
      "Empty DataFrame\n",
      "Columns: [ER, Var, Weights, SD, SR]\n",
      "Index: []\n"
     ]
    }
   ],
   "source": [
    "print(max_sharpe)"
   ]
  },
  {
   "cell_type": "markdown",
   "id": "a01dd199",
   "metadata": {},
   "source": [
    "Running the above Markowitz leads to convergence errors. Because of infinite-valued returns, stemming from missing data, this does not work as intended. I was not able to solve this problem in time for the classroom deadline, but maybe a future debugging session can lead to more interesting, and workable, results. Backfilling did not solve the problem either (as of April 28th, 2022)."
   ]
  },
  {
   "cell_type": "code",
   "execution_count": 61,
   "id": "67f927fd",
   "metadata": {},
   "outputs": [
    {
     "name": "stdout",
     "output_type": "stream",
     "text": [
      "Average market return annually:  -2.7060865757905797\n",
      "Median market return annually:  0.0\n"
     ]
    },
    {
     "data": {
      "image/png": "[encoded data removed]",
      "text/plain": [
       "<Figure size 432x288 with 1 Axes>"
      ]
     },
     "metadata": {
      "needs_background": "light"
     },
     "output_type": "display_data"
    },
    {
     "data": {
      "image/png": "[encoded data removed]",
      "text/plain": [
       "<Figure size 432x288 with 1 Axes>"
      ]
     },
     "metadata": {
      "needs_background": "light"
     },
     "output_type": "display_data"
    }
   ],
   "source": [
    "plt.figure(1)\n",
    "dataframes.Total.plot(ylabel='Return',title='Crypto Portfolio')\n",
    "\n",
    "crypto_mean = dataframes.mean()\n",
    "crypto_std = dataframes.std()\n",
    "\n",
    "# CMKT factor calculation\n",
    "cmkt = dataframes.Total - risk_free[' Close'].pct_change()\n",
    "\n",
    "#Filling any NaNs with 0\n",
    "cmkt.fillna(0, inplace=True)\n",
    "\n",
    "avg_cmkt_ann = cmkt.mean() * 365\n",
    "\n",
    "plt.figure(2)\n",
    "cmkt.plot(ylabel='Return',title='CMKT')\n",
    "\n",
    "avg_cmkt_ann = cmkt.mean() * 365\n",
    "print('Average market return annually: ', avg_cmkt_ann)\n",
    "\n",
    "med_cmkt_ann = cmkt.median() * 365\n",
    "print('Median market return annually: ', med_cmkt_ann)"
   ]
  },
  {
   "cell_type": "markdown",
   "id": "5c69ea8c",
   "metadata": {},
   "source": [
    "The overall crypto market has not been doing well, as shown by the average and median return. Keep in mind though that the crypto weights are based off of the market cap from April 2022 and may not accurately represent cryptos introduced recently."
   ]
  },
  {
   "cell_type": "markdown",
   "id": "ff299b8f",
   "metadata": {},
   "source": [
    "## Crypto Momentum Factor CMOM\n",
    "\n",
    "The momtemtum factor in Liu et al's study is constructed similarly to the momentum factor in the stock market. We are using the simplified approach where we consider the 11 preceding months of returns for each crypto and \"buying past winners, selling past losers.\" In particular, we consider the 30 best performing cryptos and the 30 worst performing cryptos. "
   ]
  },
  {
   "cell_type": "code",
   "execution_count": 60,
   "id": "19a80318",
   "metadata": {
    "scrolled": true
   },
   "outputs": [
    {
     "name": "stdout",
     "output_type": "stream",
     "text": [
      "Average momentum return annually:  0.3227568031368629\n",
      "Median momentum return annually:  0.0\n"
     ]
    },
    {
     "data": {
      "image/png": "[encoded data removed]",
      "text/plain": [
       "<Figure size 432x288 with 1 Axes>"
      ]
     },
     "metadata": {
      "needs_background": "light"
     },
     "output_type": "display_data"
    }
   ],
   "source": [
    "# Crypto Momentum Factor\n",
    "\n",
    "# Looking at the 11 preceding months\n",
    "rolling_crypto = dataframes.rolling(11).sum().shift()\n",
    "\n",
    "# Ranking the cryptos\n",
    "ranked_crypto_mom = rolling_crypto.rank(axis=1)\n",
    "\n",
    "# Separating into low and high momentum groups for the 30 best and worst cryptos\n",
    "low_mom = dataframes.where(ranked_crypto_mom < 0.30*100).mean(axis=1)\n",
    "high_mom = dataframes.where(ranked_crypto_mom > (1-0.30)*100).mean(axis=1)\n",
    "\n",
    "# Calculating the momentum factor as the high-low difference and removing infinite values\n",
    "cmom_df = high_mom - low_mom\n",
    "cmom_df.fillna(0,inplace=True)\n",
    "max_value = np.nanmax(cmom_df[cmom_df != np.inf])\n",
    "cmom_df.replace([np.inf, -np.inf], max_value, inplace=True)\n",
    "\n",
    "plt.figure(3)\n",
    "cmom_df.plot(ylabel='Return',title='CMOM')\n",
    "\n",
    "avg_cmom_ann = cmom_df.mean() * 365\n",
    "print('Average momentum return annually: ', avg_cmom_ann)\n",
    "\n",
    "med_cmom_ann = cmom_df.median() * 365\n",
    "print('Median momentum return annually: ', med_cmom_ann)"
   ]
  },
  {
   "cell_type": "markdown",
   "id": "e96281a3",
   "metadata": {},
   "source": [
    "The momentum factor performed decently well, all things considered. The drop in 2021 is likely due to the crash when BTC dropped from ~$68k and the altcoins followed."
   ]
  },
  {
   "cell_type": "markdown",
   "id": "fb087cce",
   "metadata": {},
   "source": [
    "## Crypto Small Minus Big Factor CSMB\n",
    "\n",
    "Finally our small-minus-big factor is constructed by taking the 30 largest cryptos, weighted by market cap, and our 30 smallest cryptos, also weighted by market cap, and subtracting them."
   ]
  },
  {
   "cell_type": "code",
   "execution_count": 62,
   "id": "a9e6bb70",
   "metadata": {},
   "outputs": [
    {
     "data": {
      "image/png": "[encoded data removed]",
      "text/plain": [
       "<Figure size 432x288 with 1 Axes>"
      ]
     },
     "metadata": {
      "needs_background": "light"
     },
     "output_type": "display_data"
    }
   ],
   "source": [
    "# Crypto SMB factor\n",
    "weights.index = symbols\n",
    "ranked_crypto_smb = weights.rank(axis = 0)\n",
    "\n",
    "low_smb = dataframes.where(ranked_crypto_smb < 0.30*100).mean(axis=1)\n",
    "high_smb = dataframes.where(ranked_crypto_smb > (1-0.30)*100).mean(axis=1)\n",
    "\n",
    "csmb_df = high_smb - low_smb\n",
    "csmb_df.fillna(0,inplace=True)\n",
    "\n",
    "plt.figure(4)\n",
    "csmb_df.plot(ylabel='Return', title='CSMB')\n",
    "\n",
    "avg_csmb_ann = csmb_df.mean() * 365"
   ]
  },
  {
   "cell_type": "markdown",
   "id": "778bceb0",
   "metadata": {},
   "source": [
    "The CSMB factor only has a single constant value because the Markowitz optimization did not converge, leading to a single set of weights that does not change based on the market caps of the top 100 cryptos as of April 8th, 2022. With just a constant value the CSMB factor will just combine with the constant $\\alpha^i$ to form $\\alpha'^i= \\alpha^i + \\beta^i_{CSMB}CSMB$, which is another constant."
   ]
  },
  {
   "cell_type": "markdown",
   "id": "af825c10",
   "metadata": {},
   "source": [
    "## Complete Crypto 3-Factor Model"
   ]
  },
  {
   "cell_type": "markdown",
   "id": "54e6d81d",
   "metadata": {},
   "source": [
    "Since there were persistent issues with the Markowitz optimization, none of the conclusions involving the crypto 3 factor model will be of any use, since the CSMB factor is becomes a constant. We are then left with a two factor model, which according to Liu et al., is not statistically significant in any advantages we may want. Compared to Liu's analysis, CMKT and CMOM are behaving similarly, with some oddities in the spring of 2021, likely due to the significant changes in 'meme-coins' such as Dogecoin. If CSMB shows similar behavior to Liu et al's analysis, it can be safe to conclude that their conclusions hold over time. Of course, there will always be some range of uncertainty that will put a threshold on one's conclusions.   "
   ]
  },
  {
   "cell_type": "markdown",
   "id": "6bb6def8",
   "metadata": {},
   "source": [
    "# Low-Volatility Anomaly\n",
    "\n",
    "In investing, low-volatility stocks have been observed to have higher returns than stiocks with higher volatility on average. This is known as the low-volatility anomaly. Using the same data from the previous section, let's now see if the low-volatility anomaly persists among a portfolio of the top 100 cryptos as of April 8th, 2022. We split the cryptos into groups of 10 based on their volatility. Then we calculate the mean volatility and return of each group and plot them against each other. Luckily we don't need proper market cap data and weights to do this calculation, so the dubious CSMB factor won't skew our estimates."
   ]
  },
  {
   "cell_type": "code",
   "execution_count": 14,
   "id": "eb3d62e4",
   "metadata": {},
   "outputs": [],
   "source": [
    "import statsmodels.regression.linear_model as sm"
   ]
  },
  {
   "cell_type": "code",
   "execution_count": 15,
   "id": "16011a16",
   "metadata": {},
   "outputs": [],
   "source": [
    "# Low volatility Anomaly\n",
    "cryptos_df = dataframes.drop(\"Total\", axis=1)\n",
    "crypto_std = cryptos_df.std(axis=0)\n",
    "ranked_cryptos = crypto_std.sort_values()\n",
    "groups = np.split(ranked_cryptos, 10)"
   ]
  },
  {
   "cell_type": "code",
   "execution_count": 16,
   "id": "e8863235",
   "metadata": {},
   "outputs": [],
   "source": [
    "returns = []\n",
    "for i in range(len(groups)):\n",
    "    returns.append(cryptos_df.loc[:,groups[i].index].mean(axis=1))\n",
    "\n",
    "returns = np.array(returns)"
   ]
  },
  {
   "cell_type": "code",
   "execution_count": 17,
   "id": "f6af0b40",
   "metadata": {},
   "outputs": [
    {
     "name": "stderr",
     "output_type": "stream",
     "text": [
      "C:\\Users\\Scott\\anaconda3\\lib\\site-packages\\numpy\\core\\_methods.py:229: RuntimeWarning: invalid value encountered in subtract\n",
      "  x = asanyarray(arr - arrmean)\n"
     ]
    },
    {
     "data": {
      "image/png": "[encoded data removed]",
      "text/plain": [
       "<Figure size 432x288 with 1 Axes>"
      ]
     },
     "metadata": {
      "needs_background": "light"
     },
     "output_type": "display_data"
    },
    {
     "name": "stdout",
     "output_type": "stream",
     "text": [
      "Slope:  0.06058347966559846\n"
     ]
    }
   ],
   "source": [
    "avg_ret = []\n",
    "std_ret = []\n",
    "\n",
    "for i in range(len(returns)):\n",
    "    avg_ret.append(returns[i].mean())\n",
    "    std_ret.append(returns[i].std())\n",
    "\n",
    "plt.scatter(std_ret,avg_ret,label='Data Grouping')\n",
    "plt.xlabel('Volatility')\n",
    "plt.ylabel('Average Return')\n",
    "plt.grid()\n",
    "\n",
    "\n",
    "avg_ret.pop(-1)\n",
    "std_ret.pop(-1) \n",
    "\n",
    "model = sm.OLS(avg_ret, std_ret).fit()\n",
    "\n",
    "plt.plot(np.linspace(0.005,0.045,100),np.linspace(0.005,0.045,100)*model.params[0], color='red', label='Fit')\n",
    "plt.legend()\n",
    "plt.show()\n",
    "\n",
    "print('Slope: ', model.params[0])"
   ]
  },
  {
   "cell_type": "markdown",
   "id": "d05872b3",
   "metadata": {},
   "source": [
    "With a positive slope, this is the opposite behavior of a well-diversified stock portfolio, which has a negative slope. That is where the low-volatility anomaly comes from.\n",
    "From this analysis, **the low volatility anomaly is not present in cryptocurrenices**, which, while disappointing, is not surprising. As crypto is such a new and unexplored asset class, there is little reason to believe they will behave identically to traditional stock portfolios. The last group is not plotted since it contains infinite values, but that does not take away from my conclusion. "
   ]
  },
  {
   "cell_type": "markdown",
   "id": "4c28e1d9",
   "metadata": {},
   "source": [
    "# Conclusion\n",
    "\n",
    "Even without a working Markowitz optimization, we have answered the hypothesis of the low-volatility anomaly: for cryptos it does not exist. The calculation is independent of any weights since we are dropping the `dataframes['Total']` column. In a further study, continuing from this work, we may be able to extract more useful data about the crypto 3-factor model.\n",
    "\n",
    "Addendum September 3rd, 2022: I would like to come back to this in the future to fix the Markowitz and properly examine the factors. Perhaps my conclusions will change on the factor model."
   ]
  },
  {
   "cell_type": "markdown",
   "id": "f20fc797",
   "metadata": {},
   "source": [
    "# Bibliography"
   ]
  },
  {
   "cell_type": "markdown",
   "id": "b2d1fe71",
   "metadata": {},
   "source": [
    "```{bibliography}\n",
    " @misc{journal, title={TMUBMUSD01M | U.S. 1 month Treasury Bill Historical prices - WSJ}, url={https://www.wsj.com/market-data/quotes/bond/BX/TMUBMUSD01M/historical-prices}, journal={The Wall Street Journal}, publisher={Dow Jones &amp; Company}, author={Journal, Wall Street}} \n",
    " @misc{liu_tsyvinski_wu_2019, title={Common risk factors in cryptocurrency - NBER}, url={https://www.nber.org/system/files/working_papers/w25882/w25882.pdf}, publisher={National Bureau of Economic Research}, author={Liu, Yukun and Tsyvinski, Aleh and Wu, Xi}, year={2019}, month={May}} \n",
    "```"
   ]
  }
 ],
 "metadata": {
  "kernelspec": {
   "display_name": "Python 3 (ipykernel)",
   "language": "python",
   "name": "python3"
  },
  "language_info": {
   "codemirror_mode": {
    "name": "ipython",
    "version": 3
   },
   "file_extension": ".py",
   "mimetype": "text/x-python",
   "name": "python",
   "nbconvert_exporter": "python",
   "pygments_lexer": "ipython3",
   "version": "3.9.7"
  }
 },
 "nbformat": 4,
 "nbformat_minor": 5
}
